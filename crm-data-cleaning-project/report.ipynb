{
 "cells": [
  {
   "cell_type": "code",
   "execution_count": 1,
   "id": "36a79ff8",
   "metadata": {
    "scrolled": true
   },
   "outputs": [
    {
     "data": {
      "text/plain": [
       "(          Name                         Email                  Phone  \\\n",
       " 0  Paul Pruitt           jason70@example.net      784-939-1387x7122   \n",
       " 1  Donna Hayes        wrightjeff@example.com                    NaN   \n",
       " 2  Meghan Cook  danielmccullough@example.org  001-707-896-3321x7106   \n",
       " 3  Randy Price         imartinez@example.com   001-280-497-1734x683   \n",
       " 4   Ryan Colon       robertmason@example.net       001-411-853-2850   \n",
       " \n",
       "                         Company                         Job Title     Country  \\\n",
       " 0        Lynch, Fuller and Levy  Higher education careers adviser  Luxembourg   \n",
       " 1       Arnold, Perry and Davis                  Public librarian       Kenya   \n",
       " 2                Singh-Odonnell        Contracting civil engineer       Korea   \n",
       " 3  Jackson, Garcia and Robinson                       Optometrist    Portugal   \n",
       " 4            Schroeder-Castillo            Holiday representative     Bahamas   \n",
       " \n",
       "                                                Notes  \n",
       " 0  Next three end thing able scientist less blue ...  \n",
       " 1  Outside recent though enter street guess groun...  \n",
       " 2  Partner develop particularly professional purp...  \n",
       " 3  Police maybe heart hear ground weight morning ...  \n",
       " 4  Myself leader worry nothing only analysis argu...  ,\n",
       "             Name                         Email                  Phone  \\\n",
       " 0    Paul Pruitt           jason70@example.net      784-939-1387x7122   \n",
       " 1    Meghan Cook  danielmccullough@example.org  001-707-896-3321x7106   \n",
       " 2    Randy Price         imartinez@example.com   001-280-497-1734x683   \n",
       " 3     Ryan Colon       robertmason@example.net       001-411-853-2850   \n",
       " 4  Edward Butler           mnguyen@example.com           392.336.7721   \n",
       " \n",
       "                         Company                         Job Title     Country  \\\n",
       " 0        Lynch, Fuller And Levy  Higher education careers adviser  Luxembourg   \n",
       " 1                Singh-Odonnell        Contracting civil engineer       Korea   \n",
       " 2  Jackson, Garcia And Robinson                       Optometrist    Portugal   \n",
       " 3            Schroeder-Castillo            Holiday representative     Bahamas   \n",
       " 4                     Hodge Inc            Geologist, engineering       Congo   \n",
       " \n",
       "                                                Notes Sentiment  \n",
       " 0  Next three end thing able scientist less blue ...   Neutral  \n",
       " 1  Partner develop particularly professional purp...  Positive  \n",
       " 2  Police maybe heart hear ground weight morning ...   Neutral  \n",
       " 3  Myself leader worry nothing only analysis argu...   Neutral  \n",
       " 4  Operation peace knowledge event green hot diff...   Neutral  )"
      ]
     },
     "execution_count": 1,
     "metadata": {},
     "output_type": "execute_result"
    }
   ],
   "source": [
    "import pandas as pd\n",
    "import matplotlib.pyplot as plt\n",
    "import seaborn as sns\n",
    "\n",
    "# Load both raw and cleaned data\n",
    "df_raw = pd.read_csv('data/raw_crm_data.csv')\n",
    "df_cleaned = pd.read_csv('cleaned_data/cleaned_crm_data.csv')\n",
    "\n",
    "df_raw.head(), df_cleaned.head()\n"
   ]
  },
  {
   "cell_type": "code",
   "execution_count": 2,
   "id": "54846d80",
   "metadata": {},
   "outputs": [
    {
     "name": "stdout",
     "output_type": "stream",
     "text": [
      "🧹 Raw Data Shape: (100, 7)\n",
      "✅ Cleaned Data Shape: (85, 8)\n",
      "🚫 Removed 15 invalid rows during cleaning.\n"
     ]
    }
   ],
   "source": [
    "print(\"🧹 Raw Data Shape:\", df_raw.shape)\n",
    "print(\"✅ Cleaned Data Shape:\", df_cleaned.shape)\n",
    "\n",
    "removed = df_raw.shape[0] - df_cleaned.shape[0]\n",
    "print(f\"🚫 Removed {removed} invalid rows during cleaning.\")\n"
   ]
  },
  {
   "cell_type": "code",
   "execution_count": 7,
   "id": "908e4e81",
   "metadata": {},
   "outputs": [
    {
     "name": "stderr",
     "output_type": "stream",
     "text": [
      "C:\\Users\\Saviteju\\AppData\\Local\\Temp\\ipykernel_2796\\4276556525.py:4: FutureWarning: \n",
      "\n",
      "Passing `palette` without assigning `hue` is deprecated and will be removed in v0.14.0. Assign the `x` variable to `hue` and set `legend=False` for the same effect.\n",
      "\n",
      "  sns.barplot(x=sentiment_counts.index, y=sentiment_counts.values, palette='coolwarm', legend=False)\n"
     ]
    },
    {
     "data": {
      "image/png": "[encoded data removed]",
      "text/plain": [
       "<Figure size 600x400 with 1 Axes>"
      ]
     },
     "metadata": {},
     "output_type": "display_data"
    }
   ],
   "source": [
    "sentiment_counts = df_cleaned['Sentiment'].value_counts()\n",
    "\n",
    "plt.figure(figsize=(6,4))\n",
    "sns.barplot(x=sentiment_counts.index, y=sentiment_counts.values, palette='coolwarm', legend=False)\n",
    "plt.title(\"Sentiment Analysis of CRM Notes\")  # No emoji for compatibility\n",
    "plt.xlabel(\"Sentiment\")\n",
    "plt.ylabel(\"Number of Records\")\n",
    "plt.show()\n"
   ]
  },
  {
   "cell_type": "code",
   "execution_count": 8,
   "id": "fd5d8ca4",
   "metadata": {},
   "outputs": [
    {
     "name": "stdout",
     "output_type": "stream",
     "text": [
      "\n",
      "📝 Example Positive Note:\n",
      "→ Partner develop particularly professional purpose during life rich.\n",
      "\n",
      "📝 Example Negative Note:\n",
      "→ Your prevent agree foreign responsibility floor south figure.\n",
      "\n",
      "📝 Example Neutral Note:\n",
      "→ Next three end thing able scientist less blue especially.\n"
     ]
    }
   ],
   "source": [
    "for sentiment in ['Positive', 'Negative', 'Neutral']:\n",
    "    print(f\"\\n📝 Example {sentiment} Note:\")\n",
    "    note = df_cleaned[df_cleaned['Sentiment'] == sentiment]['Notes'].head(1).values\n",
    "    if note.size > 0:\n",
    "        print(\"→\", note[0])\n"
   ]
  },
  {
   "cell_type": "code",
   "execution_count": null,
   "id": "53cf2207-350e-4cda-8882-4222a96218ca",
   "metadata": {},
   "outputs": [],
   "source": []
  }
 ],
 "metadata": {
  "kernelspec": {
   "display_name": "Python (venv)",
   "language": "python",
   "name": "venv"
  },
  "language_info": {
   "codemirror_mode": {
    "name": "ipython",
    "version": 3
   },
   "file_extension": ".py",
   "mimetype": "text/x-python",
   "name": "python",
   "nbconvert_exporter": "python",
   "pygments_lexer": "ipython3",
   "version": "3.12.6"
  }
 },
 "nbformat": 4,
 "nbformat_minor": 5
}
